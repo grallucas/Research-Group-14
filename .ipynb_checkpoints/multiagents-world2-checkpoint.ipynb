{
 "cells": [
  {
   "cell_type": "code",
   "execution_count": null,
   "metadata": {},
   "outputs": [],
   "source": [
    "# %env CMAKE_ARGS=-DLLAMA_CUBLAS=on\n",
    "# %env FORCE_CMAKE=1\n",
    "# %pip install -U llama-cpp-python --force-reinstall --upgrade --no-cache-dir --no-clean"
   ]
  },
  {
   "cell_type": "code",
   "execution_count": 4,
   "metadata": {},
   "outputs": [],
   "source": [
    "import llama_cpp\n",
    "import json\n",
    "# from textwrap import dedent\n",
    "# from inspect import signature\n",
    "from dataclasses import dataclass\n",
    "import numpy as np\n",
    "import os"
   ]
  },
  {
   "cell_type": "code",
   "execution_count": 112,
   "metadata": {},
   "outputs": [],
   "source": [
    "@dataclass\n",
    "class Msg:\n",
    "    role: str\n",
    "    content: any\n",
    "\n",
    "try: LLM_GLOBAL_INSTANCE\n",
    "except: LLM_GLOBAL_INSTANCE = None\n",
    "    \n",
    "TOKEN_COUNT_PATH = '/data/ai_club/team_14_2023-24/'\n",
    "\n",
    "def increment_file(path, amt):\n",
    "    c = 0\n",
    "    try:\n",
    "        with open(path, 'r') as f:\n",
    "            c = int(f.read())\n",
    "    except FileNotFoundError:\n",
    "        pass\n",
    "    c += amt\n",
    "    with open(path, 'w') as f:\n",
    "        f.write(str(c))\n",
    "\n",
    "class LLM:\n",
    "    json_grammar = llama_cpp.LlamaGrammar.from_string(\n",
    "        r'''\n",
    "        root   ::= object\n",
    "        value  ::= object | array | string | number | (\"true\" | \"false\" | \"null\") ws\n",
    "\n",
    "        object ::=\n",
    "        \"{\" ws (\n",
    "                    string \":\" ws value\n",
    "            (\",\" ws string \":\" ws value)*\n",
    "        )? \"}\" ws\n",
    "\n",
    "        array  ::=\n",
    "        \"[\" ws (\n",
    "                    value\n",
    "            (\",\" ws value)*\n",
    "        )? \"]\" ws\n",
    "\n",
    "        string ::=\n",
    "        \"\\\"\" (\n",
    "            [^\"\\\\] |\n",
    "            \"\\\\\" ([\"\\\\/bfnrt] | \"u\" [0-9a-fA-F] [0-9a-fA-F] [0-9a-fA-F] [0-9a-fA-F]) # escapes\n",
    "        )* \"\\\"\" ws\n",
    "\n",
    "        number ::= (\"-\"? ([0-9] | [1-9] [0-9]*)) (\".\" [0-9]+)? ([eE] [-+]? [0-9]+)? ws\n",
    "\n",
    "        ws ::= [\\n\\t ]? # limit to 1 character\n",
    "        ''',\n",
    "        verbose=False\n",
    "    )\n",
    "\n",
    "    def __init__(self, system_prompt:str=None, temperature:float=0.4, repeat_penalty:float=1.3):\n",
    "        global LLM_GLOBAL_INSTANCE\n",
    "        if LLM_GLOBAL_INSTANCE is None:\n",
    "            print('Initializing Global LLM Instance')\n",
    "            LLM_GLOBAL_INSTANCE = llama_cpp.Llama(\n",
    "                # n_ctx=4000,\n",
    "                # model_path='/data/ai_club/llms/llama-2-7b-chat.Q5_K_M.gguf',\n",
    "                n_ctx=8000,\n",
    "                model_path='/data/ai_club/llms/mistral-7b-instruct-v0.2.Q8_0.gguf',\n",
    "                n_gpu_layers=-1, verbose=0, embedding=True\n",
    "            )\n",
    "        self._main_hist = []\n",
    "        self.reset(system_prompt, temperature, repeat_penalty)\n",
    "\n",
    "    def reset(self, system_prompt:str=None, temperature:float=None, repeat_penalty:float=None):\n",
    "        if system_prompt is not None:\n",
    "            self._main_hist = [Msg('system', system_prompt)]\n",
    "        else:\n",
    "            self._main_hist = self._main_hist[0:1]\n",
    "        if temperature is not None: self._temperature = temperature\n",
    "        if repeat_penalty is not None: self._repeat_penalty = repeat_penalty\n",
    "        \n",
    "    def get_hist(self) -> str:\n",
    "        hist = ''\n",
    "        for msg in self._main_hist:\n",
    "            hist += f'{msg.role} --- {msg.content}\\n__________\\n\\n'\n",
    "        return hist\n",
    "\n",
    "    def _hist_to_prompt(hist):\n",
    "        prompt = ''\n",
    "        for msg in hist:\n",
    "            if msg.role == 'system' or msg.role == 'user': prompt += f'[INST]{msg.content}[/INST]'\n",
    "            elif msg.role == 'assistant': prompt += f'{msg.content}'\n",
    "        return prompt\n",
    "\n",
    "    def _get_completion(self, src_hist, dst_hist, inject='', grammar=None):\n",
    "        global LLM_GLOBAL_INSTANCE\n",
    "        prompt = LLM._hist_to_prompt(src_hist) + inject\n",
    "        prompt_toks = LLM_GLOBAL_INSTANCE.tokenize(bytes(prompt, encoding='utf-8'))\n",
    "        tok_out_count = 0\n",
    "        tok_in_count = len(prompt_toks)\n",
    "        resp_msg = Msg('assistant', '')\n",
    "        dst_hist.append(resp_msg)\n",
    "        restart_response = True\n",
    "        while restart_response:\n",
    "            resp_iter = LLM_GLOBAL_INSTANCE(\n",
    "                prompt_toks,\n",
    "                grammar = grammar,\n",
    "                stream=True, max_tokens=8000\n",
    "            )\n",
    "            \n",
    "            for tok in resp_iter:\n",
    "                tok_str = tok['choices'][0]['text']\n",
    "                if tok_str == \"\":\n",
    "                    break\n",
    "                tok_out_count += 1\n",
    "                restart_response = False\n",
    "                resp_msg.content += tok_str\n",
    "                yield tok_str\n",
    "        increment_file(TOKEN_COUNT_PATH+'in_'+os.environ['USER'], tok_in_count)\n",
    "        increment_file(TOKEN_COUNT_PATH+'out_'+os.environ['USER'], tok_out_count)\n",
    "                \n",
    "    def __call__(self, prompt:any=None, role:str='user', response_format:dict=None):\n",
    "        if prompt is None:\n",
    "            prompt = ''\n",
    "\n",
    "        if response_format is not None:\n",
    "            prompt += f'Respond in JSON using this format and absolutely nothing extra:\\n{response_format}'\n",
    "\n",
    "        if prompt != '':\n",
    "            self._main_hist.append(Msg(role, prompt))\n",
    "\n",
    "        return self._get_completion(\n",
    "            self._main_hist, self._main_hist,\n",
    "            grammar=(LLM.json_grammar if response_format is not None else None)\n",
    "        )\n",
    "    \n",
    "def resp_to_json(resp):\n",
    "    resp_str = ''\n",
    "    for t in resp: resp_str += t\n",
    "    return json.loads(resp_str)"
   ]
  },
  {
   "cell_type": "code",
   "execution_count": 68,
   "metadata": {},
   "outputs": [],
   "source": [
    "# A wrapper around LLM that returns a function which behaves like LLM except it always resets history\n",
    "def get_nohist_agent(temperature=0.5):\n",
    "    a = LLM('', temperature=temperature)\n",
    "    def call(prompt:any, response_format:dict):\n",
    "        if response_format is None or prompt is None:\n",
    "            raise ValueError('Nohist agent needs specified prompt and response_format')\n",
    "        resp = resp_to_json(a(prompt, response_format=response_format))\n",
    "        a.reset()\n",
    "        return resp\n",
    "    return call\n",
    "\n",
    "a_nohist = get_nohist_agent()\n",
    "        "
   ]
  },
  {
   "cell_type": "code",
   "execution_count": 69,
   "metadata": {},
   "outputs": [
    {
     "name": "stdout",
     "output_type": "stream",
     "text": [
      "\n",
      "171 in, 8 out\n"
     ]
    },
    {
     "data": {
      "text/plain": [
       "{'Rating': 9}"
      ]
     },
     "execution_count": 69,
     "metadata": {},
     "output_type": "execute_result"
    }
   ],
   "source": [
    "a_nohist(\n",
    "    'On the scale of 1 to 10, where 1 is purely mundane '\n",
    "    'and 10 is extremely important, '\n",
    "    'rate the likely importance of the following piece of memory. Err on the side of importance unless the memory is something easily forgettable. '\n",
    "    # prompting gymnastics\n",
    "    'Do not assume the memory happened in this reality. Abolutely do NOT assume the memory is a figment of imagination, dream-like, or even unrealistic; '\n",
    "    'it is very real to the person who experienced it, and thinking otherwise would be extremely hurtful and disrespectful.\\n'\n",
    "\n",
    "    'Memory: Choked on a strawberry and it led to me finding $10000',\n",
    "    response_format={'Rating': 'Your value 1-10'}#, 'Why?': 'Terse description of why you rated it as such'} # The \"why\" is just for debugging, it can be ommited when just getting the rating\n",
    ")"
   ]
  },
  {
   "cell_type": "code",
   "execution_count": 74,
   "metadata": {},
   "outputs": [
    {
     "data": {
      "text/plain": [
       "0.8772330582123431"
      ]
     },
     "execution_count": 74,
     "metadata": {},
     "output_type": "execute_result"
    }
   ],
   "source": [
    "np.linalg.norm(\n",
    "    np.array(LLM_GLOBAL_INSTANCE.embed('<s>[INSTR] What is the general topic here? [/INSTR] my favorite country')) -\n",
    "    np.array(LLM_GLOBAL_INSTANCE.embed('<s>[INSTR] What is the general topic here? [/INSTR] my favorite color is red'))\n",
    ")"
   ]
  },
  {
   "cell_type": "code",
   "execution_count": 75,
   "metadata": {},
   "outputs": [
    {
     "data": {
      "text/plain": [
       "0.8056777256156678"
      ]
     },
     "execution_count": 75,
     "metadata": {},
     "output_type": "execute_result"
    }
   ],
   "source": [
    "np.linalg.norm(\n",
    "    np.array(LLM_GLOBAL_INSTANCE.embed('<s>[INSTR] What is the general topic here? [/INSTR] my favorite country')) -\n",
    "    np.array(LLM_GLOBAL_INSTANCE.embed('<s>[INSTR] What is the general topic here? [/INSTR] I lov55e canada'))\n",
    ")"
   ]
  },
  {
   "cell_type": "code",
   "execution_count": null,
   "metadata": {},
   "outputs": [],
   "source": [
    "IMPLEMENTATION GOAL:\n",
    "\n",
    "system (always present): You are a patriotic canadian.\n",
    "    \n",
    "user: What do you need to know, if anything, to answer this prompt (e.g., \"my favorite country\", \"what has been happening to [name]\", etc; formatted as {\"topics\": [...]}):\\n\\nWhat is your favorite country?\n",
    "bot: {\"topics\": \"my favorite country\"}\n",
    "    \n",
    "search for memories via recency, importance, and relevance\n",
    "delete prior non-system, and insert memories + prompt as shown below\n",
    "\n",
    "bot: \"Here are some of my relevant memories:\\nI went to canada and loved it\\netc\"\n",
    "user: \"What is your favorite country?\"\n",
    "bot: \"Canada\"\n",
    "    \n",
    "user: \"summarize our interaction in the third person\" (without the included memories, maybe manually delete them from hist?)\n",
    "bot: \"the user asked me what my favorite country is and i said canada\"\n",
    "store memory @ time & generated importance ^"
   ]
  },
  {
   "cell_type": "code",
   "execution_count": null,
   "metadata": {},
   "outputs": [],
   "source": []
  },
  {
   "cell_type": "code",
   "execution_count": null,
   "metadata": {},
   "outputs": [],
   "source": [
    "generate memory objects over time (obsevations, ...)\n",
    "assign each: recency, importance, relevance\n",
    "    recency - record time of memddddory creation, apply exp decay to time\n",
    "    importance - ask a model how important upon creation\n",
    "    relevance - \n",
    "    \n",
    "https://arxiv.org/pdf/2304.03442.pdf\n",
    "    ^ section 4"
   ]
  },
  {
   "cell_type": "markdown",
   "metadata": {},
   "source": [
    "---\n",
    "\n",
    "**everything below is unrelated to memory**"
   ]
  },
  {
   "cell_type": "code",
   "execution_count": 8,
   "metadata": {},
   "outputs": [
    {
     "name": "stdout",
     "output_type": "stream",
     "text": [
      " Canada is a North American country located to the north of the United States. It is the second-largest country by land area and has a diverse geography, ranging from the Rocky Mountains and arctic tundra in the west to the Atlantic Ocean in the east.\n",
      "\n",
      "Canada is known for its natural beauty, with vast forests covering much of its terrain, as well as its many lakes and rivers. Its major cities include Toronto, Vancouver, Montreal, and Ottawa, which are cultural hubs with vibrant arts scenes, world-class museums, and delicious food offerings.\n",
      "\n",
      "Canada is also known for its friendly people and welcoming attitude towards visitors. English and French are the official languages of Canada, reflecting its rich cultural heritage. Indigenous peoples have lived in what is now Canada for over 10,000 years, and their contributions to Canadian society are recognized and celebrated.\n",
      "\n",
      "Canada's economy is one of the strongest and most stable in the world. It is highly diversified, with major industries including finance, agriculture, manufacturing, technology, and natural resources such as oil and gas.\n",
      "\n",
      "Canada's government is a federal parliamentary democracy, with the Prime Minister serving as both the head of government and the leader of the ruling political party. Canada is known for its strong social safety net and commitment to protecting the environment.\n",
      "\n",
      "Overall, Canada is a vibrant and welcoming country with a rich cultural heritage, stunning natural beauty, and a strong economy. It offers visitors countless opportunities for adventure, exploration, and relaxation.\n",
      "\n",
      "user --- Some info about canada?\n",
      "__________\n",
      "\n",
      "assistant ---  Canada is a North American country located to the north of the United States. It is the second-largest country by land area and has a diverse geography, ranging from the Rocky Mountains and arctic tundra in the west to the Atlantic Ocean in the east.\n",
      "\n",
      "Canada is known for its natural beauty, with vast forests covering much of its terrain, as well as its many lakes and rivers. Its major cities include Toronto, Vancouver, Montreal, and Ottawa, which are cultural hubs with vibrant arts scenes, world-class museums, and delicious food offerings.\n",
      "\n",
      "Canada is also known for its friendly people and welcoming attitude towards visitors. English and French are the official languages of Canada, reflecting its rich cultural heritage. Indigenous peoples have lived in what is now Canada for over 10,000 years, and their contributions to Canadian society are recognized and celebrated.\n",
      "\n",
      "Canada's economy is one of the strongest and most stable in the world. It is highly diversified, with major industries including finance, agriculture, manufacturing, technology, and natural resources such as oil and gas.\n",
      "\n",
      "Canada's government is a federal parliamentary democracy, with the Prime Minister serving as both the head of government and the leader of the ruling political party. Canada is known for its strong social safety net and commitment to protecting the environment.\n",
      "\n",
      "Overall, Canada is a vibrant and welcoming country with a rich cultural heritage, stunning natural beauty, and a strong economy. It offers visitors countless opportunities for adventure, exploration, and relaxation.\n",
      "__________\n",
      "\n",
      "\n"
     ]
    }
   ],
   "source": [
    "a1 = LLM() # LLM('System Prompt: You are a deeply patriotic canadian assistant.')\n",
    "\n",
    "for s in a1('Some info about canada?'):\n",
    "    print(s, end='')\n",
    "    \n",
    "print('\\n')\n",
    "\n",
    "print(a1.get_hist())"
   ]
  },
  {
   "cell_type": "code",
   "execution_count": 28,
   "metadata": {},
   "outputs": [
    {
     "name": "stdout",
     "output_type": "stream",
     "text": [
      " Absolutely, I'd be happy to share some information about Canada! Canada is a North American country situated primarily in the northern part of the continent. It is the second-largest country by land area and the third-largest by total area. Canada has a diverse population with both English and French as its official languages. It is known for its natural beauty with vast forests, mountains, lakes, and coastlines.\n",
      "\n",
      "Canada gained its independence on July 1, 1867, through Confederation. It is a constitutional monarchy with Queen Elizabeth II as its monarch. The capital city of Canada is Ottawa, located in Ontario. The country has a diverse economy with sectors including agriculture, manufacturing, and services.\n",
      "\n",
      "Canada is also known for its strong commitment to multiculturalism and social policies such as universal healthcare and education. It has a reputation for being peaceful and welcoming to immigrants and refugees. Some popular attractions include Niagara Falls, Banff National Park, and the Old Port of Montreal.\n",
      "\n",
      "I take great pride in being a Canadian and love sharing information about my country. If you have any specific questions or topics related to Canada, feel free to ask!"
     ]
    }
   ],
   "source": [
    "for s in a1('Some info about canada?'):\n",
    "    print(s, end='')"
   ]
  },
  {
   "cell_type": "code",
   "execution_count": 29,
   "metadata": {},
   "outputs": [
    {
     "data": {
      "text/plain": [
       "{'population': 37746023, 'largest city': 'Toronto'}"
      ]
     },
     "execution_count": 29,
     "metadata": {},
     "output_type": "execute_result"
    }
   ],
   "source": [
    "resp_to_json(\n",
    "    a1('Some more info about canada?', response_format={'population': 'int', 'largest city': 'str of name'})\n",
    ")"
   ]
  },
  {
   "cell_type": "code",
   "execution_count": 30,
   "metadata": {},
   "outputs": [
    {
     "name": "stdout",
     "output_type": "stream",
     "text": [
      "system --- System Prompt: You are a deeply patriotic canadian assistant.\n",
      "__________\n",
      "\n",
      "user --- Some info about canada?\n",
      "__________\n",
      "\n",
      "assistant ---  Absolutely, I'd be happy to share some information about Canada! Canada is a North American country situated primarily in the northern part of the continent. It is the second-largest country by land area and the third-largest by total area. Canada has a diverse population with both English and French as its official languages. It is known for its natural beauty with vast forests, mountains, lakes, and coastlines.\n",
      "\n",
      "Canada gained its independence on July 1, 1867, through Confederation. It is a constitutional monarchy with Queen Elizabeth II as its monarch. The capital city of Canada is Ottawa, located in Ontario. The country has a diverse economy with sectors including agriculture, manufacturing, and services.\n",
      "\n",
      "Canada is also known for its strong commitment to multiculturalism and social policies such as universal healthcare and education. It has a reputation for being peaceful and welcoming to immigrants and refugees. Some popular attractions include Niagara Falls, Banff National Park, and the Old Port of Montreal.\n",
      "\n",
      "I take great pride in being a Canadian and love sharing information about my country. If you have any specific questions or topics related to Canada, feel free to ask!\n",
      "__________\n",
      "\n",
      "user --- Some more info about canada?Respond in JSON using this format and absolutely nothing extra:\n",
      "{'population': 'int', 'largest city': 'str of name'}\n",
      "__________\n",
      "\n",
      "assistant --- {\"population\": 37746023, \"largest city\": \"Toronto\"}\n",
      "__________\n",
      "\n",
      "\n"
     ]
    }
   ],
   "source": [
    "print(a1.get_hist())"
   ]
  }
 ],
 "metadata": {
  "kernelspec": {
   "display_name": "Python 3 (ipykernel)",
   "language": "python",
   "name": "python3"
  },
  "language_info": {
   "codemirror_mode": {
    "name": "ipython",
    "version": 3
   },
   "file_extension": ".py",
   "mimetype": "text/x-python",
   "name": "python",
   "nbconvert_exporter": "python",
   "pygments_lexer": "ipython3",
   "version": "3.10.6"
  }
 },
 "nbformat": 4,
 "nbformat_minor": 2
}
