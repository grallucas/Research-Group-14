{
 "cells": [
  {
   "cell_type": "markdown",
   "metadata": {},
   "source": [
    "# Online Environment for Synergistic Simulations\n",
    "\n",
    "In this notebook, a general, modifiable environment will be displayed below for experiments with LLMs working together to solve a coding assignment. The coding assignment can be changed, as well as the number of agents. \n",
    "\n",
    "This notebook utilizes the ReflectiveLLM class from the multiagents-world2.ipynb class.\n",
    "\n",
    "## Import Statements"
   ]
  },
  {
   "cell_type": "code",
   "execution_count": null,
   "metadata": {},
   "outputs": [],
   "source": [
    "from agents import ReflectiveLLM, resp_to_json"
   ]
  },
  {
   "cell_type": "markdown",
   "metadata": {},
   "source": [
    "# Read in the prompt from the prompt.txt file"
   ]
  },
  {
   "cell_type": "code",
   "execution_count": null,
   "metadata": {},
   "outputs": [],
   "source": [
    "with open(\"prompt.txt\", \"r\") as prompt_file:\n",
    "    prompt = prompt_file.read()"
   ]
  },
  {
   "cell_type": "code",
   "execution_count": null,
   "metadata": {},
   "outputs": [],
   "source": [
    "rllm = ReflectiveLLM(\n",
    "    'You are an expert problem solver tasked with breaking up a coding question prompt into smaller parts for other agents to tackle.'\n",
    "    + 'The parts should be able to be completed in around 20-30 lines of code'\n",
    "    + 'Do not add any extra information besides for the prompt. If a step requires refactoring previous code (i.e. doing something in a loop), state that explicitly',\n",
    "    temperature=0.1\n",
    ")"
   ]
  },
  {
   "cell_type": "code",
   "execution_count": null,
   "metadata": {},
   "outputs": [],
   "source": [
    "response = rllm('The prompt: ' + prompt, \n",
    "                True,\n",
    "                response_format={'list of steps': 'a list of strings, with each element being a step'})"
   ]
  },
  {
   "cell_type": "code",
   "execution_count": null,
   "metadata": {},
   "outputs": [],
   "source": [
    "response"
   ]
  },
  {
   "cell_type": "code",
   "execution_count": null,
   "metadata": {},
   "outputs": [],
   "source": [
    "steps = resp_to_json(response)['steps']\n",
    "steps"
   ]
  },
  {
   "cell_type": "markdown",
   "metadata": {},
   "source": [
    "The event loop should be as follows:\n",
    "\n",
    "The agents are given a prompt to work on - this will include the coding language to be written in. They will have a file path to write code to and access. \n",
    "\n",
    "How will the parts be split up - by the agents themselves or by a moderator LLM? important decision there\n",
    "\n",
    "The order -> the agents will go at the problem sequentially, and be able to converse with each other/add comments about their code or comment on others' code.\n",
    "\n",
    "Evaluation -> How to evaluate the code that is written? Compare to just one LLM doing the prompt, run tests on it, we'll see\n",
    "\n",
    "Can ask agents to do one themselves, and one with another agent, and ask them to reflect on both experiences.\n",
    "\n",
    "Should more information be added about the agents? Experience, etc. -> adding trolls into the mix? maybe not now\n"
   ]
  },
  {
   "cell_type": "code",
   "execution_count": null,
   "metadata": {},
   "outputs": [],
   "source": [
    "# Set up agents\n",
    "agents = []\n",
    "agents.append(ReflectiveLLM(\n",
    "    'You are tasked with working together with other LLM agents to solve a coding problem. You will not repeat code under any circumstances.' +\n",
    "    'You will be given tasks to complete in a certain programming language, and will provide the code and nothing but the code.'\n",
    "    'The overall prompt is as follows: ' + prompt,\n",
    "    temperature=0.2\n",
    "))\n",
    "agents.append(ReflectiveLLM(\n",
    "    'You are tasked with working together with other LLM agents to solve a coding problem. You will not repeat code under any circumstances.' +\n",
    "    'You will be given tasks to complete in a certain programming language, and will provide the code and nothing but the code.'\n",
    "    'The overall prompt is as follows: ' + prompt,\n",
    "    temperature=0.15\n",
    "))"
   ]
  },
  {
   "cell_type": "code",
   "execution_count": null,
   "metadata": {},
   "outputs": [],
   "source": [
    "step_count = 0\n",
    "code = []\n",
    "code_block = \"\"\n",
    "agent_num = 0\n",
    "\n",
    "while step_count < len(steps): #placeholder for number of times to go through the loop\n",
    "    code.append(resp_to_json(agents[agent_num]('Here is the previous code for reference: ' + code_block + 'You will ONLY take and ONLY COMPLETE this step. DO NOT DO ANY MORE THAN THIS STEP: ' + steps[step_count],\n",
    "                False,\n",
    "                response_format={'Code': 'Your Python code for ONLY this ONE step' + steps[step_count] + ' for this problem. DO NOT INCLUDE MORE CODE THAN FOR JUST THE STEP',\n",
    "                                 'Chatroom Message': 'A string message for \"chatroom\" to be visible by other agents. Keep these short and helpful, these messages may be viewed by other agents.'})))\n",
    "    code_block += code[step_count]['Code']\n",
    "    print(code[step_count]['Chatroom Message'])\n",
    "    print(code[step_count]['Code'])\n",
    "    step_count += 1\n",
    "    agent_num += 1\n",
    "    if agent_num == len(agents):\n",
    "        agent_num = 0"
   ]
  },
  {
   "cell_type": "code",
   "execution_count": null,
   "metadata": {},
   "outputs": [],
   "source": [
    "code"
   ]
  },
  {
   "cell_type": "code",
   "execution_count": null,
   "metadata": {},
   "outputs": [],
   "source": [
    "with open(\"code.txt\", \"w\") as output_file:\n",
    "    output_file.write(code_block)"
   ]
  }
 ],
 "metadata": {
  "kernelspec": {
   "display_name": "Python 3",
   "language": "python",
   "name": "python3"
  },
  "language_info": {
   "codemirror_mode": {
    "name": "ipython",
    "version": 3
   },
   "file_extension": ".py",
   "mimetype": "text/x-python",
   "name": "python",
   "nbconvert_exporter": "python",
   "pygments_lexer": "ipython3",
   "version": "3.8.10"
  }
 },
 "nbformat": 4,
 "nbformat_minor": 2
}
